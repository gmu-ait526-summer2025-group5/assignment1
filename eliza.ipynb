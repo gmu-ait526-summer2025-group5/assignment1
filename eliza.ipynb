{
 "cells": [
  {
   "cell_type": "markdown",
   "id": "0b6bd6c7-209e-4572-93ae-61794f9cb8f1",
   "metadata": {},
   "source": [
    "Group Programming Assignment One-Chatbot Eliza <br>\n",
    "Kori Fogle, Michaela Herrick, Jackson Holland, Ishaan Indoori <br>\n",
    "AIT 526 <br>\n",
    "6/1/2025 <br>\n",
    "\n",
    "<b> Problem to be Solved </b> <br>\n",
    "The goal of this project is to create a chatbot that convincingly interacts with a user such that it could conceivably make the user think the chatbot is an actual therapist. Python is used to create the chatbot, with a heavy emphasis on regular expressions, tokenization and lemmatization to help take user input in, and return output from the program and return responses in natural language that are more convincing to the user. <br>\n",
    "<b> Algorithm and Flow</b><br>\n",
    "Our team’s approach is to first ask the user their name, age, and gender. Then we ask the user about their current emotional state to help funnel them into more specific sets of regular expressions. Four of the six basic emotions- happiness, sadness, fear, and anger, are used to funnel users into more tailored responses. We learned about these basic emotions and decided not to utilize disgust or surprise, since those seem more temporal than the other four (UWA 2019). Our team referenced a list of emotive words (Davis 2025) to help write expressions and try to address common emotional words. The code also addresses how to deal with the assignment requirements of “gibberish” or non-sensical input. Further, we give the user ways to exit the program with common closing statements such as “goodbye” or “I don’t want to talk anymore.”<br>\n",
    "<b> Example of Input and Output</b><br>\n",
    "[example]<br>\n",
    "<b> Usage Instructions</b><br>\n",
    "[step by step]<br>\n",
    "<b> References</b><br>\n",
    "Anon. 2024. “Python Regex Cheat Sheet.” GeeksforGeeks. Retrieved May 31, 2025 (https://www.geeksforgeeks.org/python-regex-cheat-sheet/).<br>\n",
    "Davis, Tchiki. 2025. “List of Emotions: 271 Emotion Words (+ PDF).” The Berkeley Well-Being Institute. Retrieved (https://www.berkeleywellbeing.com/list-of-emotions.html). <br>\n",
    "Dib, Firas. n.d. “Regex101 - Online Regex Editor and Debugger.” @Regex101. Retrieved (https://regex101.com/).<br>\n",
    "Gadiraju, Sai Surya. n.d. “M1.2 Introduction to Python and Regular Expressions Demo Video 2.”<br>\n",
    "Jurafsky, Daniel, and James H. Martin. 2025. Speech and Language Processing (3rd Ed. Draft).<br>\n",
    "Liao, Duoduo. n.d.-a.“M1.4 Lecture Video and Code Walkthrough.”<br>\n",
    "UWA. 2019. “Our Basic Emotions Infographic | List of Human Emotions.” UWA Online. Retrieved (https://online.uwa.edu/infographics/basic-emotions/).<br>\n"
   ]
  },
  {
   "cell_type": "code",
   "execution_count": null,
   "id": "f08fe598-bd27-4ec8-ab20-1bbb11733156",
   "metadata": {},
   "outputs": [],
   "source": [
    "##import packages\n",
    "import nltk\n",
    "from nltk.stem import WordNetLemmatizer\n",
    "from nltk.corpus import stopwords\n",
    "from nltk.tokenize import word_tokenize\n",
    "from nltk import pos_tag #tag parts of speech\n",
    "import random\n",
    "import re"
   ]
  },
  {
   "cell_type": "code",
   "execution_count": null,
   "id": "ddc57cb9-19bf-49c9-9663-ac5045fb9126",
   "metadata": {},
   "outputs": [],
   "source": [
    "##Regular expression sets that correspond to one of four emotional states\n"
 
   ]
  },
  {
   "cell_type": "code",
   "execution_count": null,
   "id": "2e4082c0-26f3-4f56-9dcd-f6bae84bf368",
   "metadata": {},
   "outputs": [],
   "source": [
    "##Greeting to get name and gender"

   ]
  },
  {
   "cell_type": "code",
   "execution_count": null,
   "id": "3036252c-d994-44bc-bbab-04986577de33",
   "metadata": {},
   "outputs": [],
   "source": [
    "##Ask which emotional state user is feeling"
   ]
  },
  {
   "cell_type": "code",
   "execution_count": null,
   "id": "5b22aa4d-cc90-4ed1-b381-1989f6ed888f",
   "metadata": {},
   "outputs": [],
   "source": [
    "##Pronoun matching and switching function"
   ]
  },
  {
   "cell_type": "code",
   "execution_count": null,
   "id": "b3021ea0-caaf-4c36-95c5-d19c860d1a56",
   "metadata": {},
   "outputs": [],
   "source": [
    "##Addressing gibberish/ nonsensical input"
   ]
  },
  {
   "cell_type": "code",
   "execution_count": null,
   "id": "6205fa4e-4e2c-44b8-8b4a-82ef7ca2c9b2",
   "metadata": {},
   "outputs": [],
   "source": [
    "##Quitting the chatbot"
   ]
  },
  {
   "cell_type": "code",
   "execution_count": null,
   "id": "7b43daef-d3d8-4fd4-a304-8238fd3d06cb",
   "metadata": {},
   "outputs": [],
   "source": [
    "##Function to enter chatbot"
   ]
  },
  {
   "cell_type": "code",
   "execution_count": null,
   "id": "4dc18d2c-1803-4bdc-82c7-d03f8c3c3f9e",
   "metadata": {},
   "outputs": [],
   "source": [
    "##Call chatbot function to start chat as a user"
   ]
  }
 ],
 "metadata": {
  "kernelspec": {
   "display_name": "Python 3 (ipykernel)",
   "language": "python",
   "name": "python3"
  },
  "language_info": {
   "codemirror_mode": {
    "name": "ipython",
    "version": 3
   },
   "file_extension": ".py",
   "mimetype": "text/x-python",
   "name": "python",
   "nbconvert_exporter": "python",
   "pygments_lexer": "ipython3",
   "version": "3.13.2"
  }
 },
 "nbformat": 4,
 "nbformat_minor": 5
}

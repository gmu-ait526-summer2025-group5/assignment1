{
 "cells": [
  {
   "cell_type": "markdown",
   "id": "0",
   "metadata": {},
   "source": [
    "Group Programming Assignment One-Chatbot Eliza <br>\n",
    "Kori Fogle, Michaela Herrick, Jackson Holland, Ishaan Indoori <br>\n",
    "AIT 526 <br>\n",
    "6/1/2025 <br>\n",
    "\n",
    "<b> Problem to be Solved </b> <br>\n",
    "The goal of this project is to create a chatbot that convincingly interacts with a user such that it could conceivably make the user think the chatbot is an actual therapist. Python is used to create the chatbot, with a heavy emphasis on regular expressions, tokenization and lemmatization to help take user input in, and return output from the program and return responses in natural language that are more convincing to the user. <br>\n",
    "<b> Algorithm and Flow</b><br>\n",
    "Our team’s approach is to first ask the user their name, age, and gender. Then we ask the user about their current emotional state to help funnel them into more specific sets of regular expressions. Four of the six basic emotions- happiness, sadness, fear, and anger, are used to funnel users into more tailored responses. We learned about these basic emotions and decided not to utilize disgust or surprise, since those seem more temporal than the other four (UWA 2019). Our team referenced a list of emotive words (Davis 2025) to help write expressions and try to address common emotional words. The code also addresses how to deal with the assignment requirements of “gibberish” or non-sensical input. Further, we give the user ways to exit the program with common closing statements such as “goodbye” or “I don’t want to talk anymore.”<br>\n",
    "<b> Example of Input and Output</b><br>\n",
    "[example]<br>\n",
    "<b> Usage Instructions</b><br>\n",
    "<oi>\n",
    "<li>Start Chatbot by calling the ELIZA function</li>\n",
    "<li>Tell Eliza your name</li>\n",
    "<li>Tell Eliza your gender from the predefined list</li>\n",
    "<li>Chose an emotion to talk to Eliza about from the predefined emotion categories</li>\n",
    "<li>Answer questions by Eliza until emotional needs have been met</li>\n",
    "<li>Stop talking to Eliza at anytime by saying quit, leave, bye, etc.</li>\n",
    "</ol><br>\n",
    "<b> References</b><br>\n",
    "Anon. 2024. “Python Regex Cheat Sheet.” GeeksforGeeks. Retrieved May 31, 2025 (https://www.geeksforgeeks.org/python-regex-cheat-sheet/).<br>\n",
    "Davis, Tchiki. 2025. “List of Emotions: 271 Emotion Words (+ PDF).” The Berkeley Well-Being Institute. Retrieved (https://www.berkeleywellbeing.com/list-of-emotions.html). <br>\n",
    "Dib, Firas. n.d. “Regex101 - Online Regex Editor and Debugger.” @Regex101. Retrieved (https://regex101.com/).<br>\n",
    "Gadiraju, Sai Surya. n.d. “M1.2 Introduction to Python and Regular Expressions Demo Video 2.”<br>\n",
    "Jurafsky, Daniel, and James H. Martin. 2025. Speech and Language Processing (3rd Ed. Draft).<br>\n",
    "Liao, Duoduo. n.d.-a.“M1.4 Lecture Video and Code Walkthrough.”<br>\n",
    "UWA. 2019. “Our Basic Emotions Infographic | List of Human Emotions.” UWA Online. Retrieved (https://online.uwa.edu/infographics/basic-emotions/).<br>\n",
    "W3 Schools. “Python Try Except.” Www.w3schools.com, 2024, www.w3schools.com/python/python_try_except.asp.<br>"
   ]
  },
  {
   "cell_type": "code",
   "execution_count": 1,
   "id": "1",
   "metadata": {},
   "outputs": [],
   "source": [
    "##import packages\n",
    "import nltk\n",
    "from nltk.stem import WordNetLemmatizer\n",
    "from nltk.corpus import stopwords\n",
    "from nltk.tokenize import word_tokenize\n",
    "import re\n",
    "\n",
    "\n",
    "#Remove Stopwords and Lemmatise Text\n",
    "lemmatizer = WordNetLemmatizer()\n",
    "stop_words=set(stopwords.words('english'))\n",
    "def process_words(user_input):\n",
    "    tokens = nltk.word_tokenize(user_input.lower())\n",
    "    lem_tokens=[lemmatizer.lemmatize(word) for word in tokens if word not in stop_words]\n",
    "    return lem_tokens"
   ]
  },
  {
   "cell_type": "code",
   "execution_count": 2,
   "id": "2",
   "metadata": {},
   "outputs": [],
   "source": [
    "##Regular expression sets that correspond to one of four emotional states\n",
    "from patterns.happy import happy_patterns \n",
    "# Store a greeting to be used for each user based on the emotion selected\n",
    "emote_responses = {\n",
    "    \"happy\": \"Glad to hear! Tell me more about what’s making you feel this way.\",\n",
    "    \"sad\": \"I'm sorry to hear that. What's been bothering you?\",\n",
    "    \"fear\": \"I'm sorry to hear that. What’s making you feel so anxious?\",\n",
    "    \"anger\": \"Let’s try to work through that anger. What happened?\"\n",
    "}\n",
    "\n",
    "# Store regex phrases divided based on user emotion\n",
    "emote_regex = {\n",
    "    \"happy\": happy_patterns,\n",
    "    \"sad\": [\n",
    "        (r\".*\\b(hello|hi|greetings)\\b.*\", \"Hello, can you tell me more about what is making you sad {name}?\"),\n",
    "        (r\".*\\bI need help\\b.*\", \"How can I help you today {name}?\"),\n",
    "        (r\".*\\b(lonely|depressed|lost)\\b.*\", \"That sounds really tough. Want to talk about it {name}?\"),\n",
    "        (r\".*\\bdown in the dumps\\b.*\", \"What is causing this feeling?\"),\n",
    "        (r\".*\\b(cry|tears|bawling|crying|weeping)\\b.*\", \"That sounds like a lot {name}, can you tell me more?\"),\n",
    "        (r\".*\\blump in my throat\\b.*\", \"What do you think is causing this feeling?\"),\n",
    "        (r\".*\\b(blue|blues)\\b.*\", \"Why do you think you are feeling this way {name}?\"),\n",
    "        (r\".*\\bheavy heart\\b.*\", \"That sounds rough, can you tell me more?\"),\n",
    "        (r\".*\\b(down|low|under)\\b.*\", \"What is causing this low feeling {name}?\"),\n",
    "        (r\".*\\b(broken|broke|destroyed)\\b.*\", \"Why do you think this happened {name}?\"),\n",
    "        (r\".*\\b(sick|sickly|ill)\\b.*\", \"Tell me more about this sickness.\"),\n",
    "        (r\".*\\b(sink|sinking|sunk)\\b.*\", \"Tell me more about this sinking feeling you have {name}?\"),\n",
    "        (r\".*\\b(alone|isolated)\\b.*\", \"Tell me more about this alone feeling {name}?\"),\n",
    "        (r\".*\\b(hopeless|worthless|useless)\\b.*\", \"What do you think is causing these feelings {name}?\"),\n",
    "        (r\".*\\b(died|death|loss)\\b.*\", \"I'm sorry about this loss. Can you tell me more about that {name}?\"),\n",
    "        (r\".*\\b(miss|missing|wish they were here)\\b.*\", \"I'm sorry to hear that {name}. Can you tell me more about these longings?\"),\n",
    "        (r\".*\\b(drained|tired|exhausted)\\b.*\", \"What do you think is causing this exhaustion {name}?\"),\n",
    "        (r\".*\\b(failure|fail|failed)\\b.*\", \"I'm sorry to hear that {name}. Can you tell me more about this failure?\"),\n",
    "        (r\".*\\b(abandoned|abandonment|given up)\\b.*\", \"Tell me more about these abandonment feelings {name}.\"),\n",
    "        (r\".*\\b(misery|miserable)\\b.*\", \"That sounds really tough. Can you tell me more about these feelings of misery {name}?\"),\n",
    "        (r\".*\\b(pointless)\\b.*\", \"What about this is causing these pointless feelings {name}?\"),\n",
    "        (r\".*\\b(grief|grieving)\\b.*\", \"I'm sorry about this loss {name}. Can you tell me more about this?\"),\n",
    "        (r\".*\\b(not okay|not fine|not good)\\b.*\", \"I'm sorry to hear that {name}. Can you tell me more about this?\"),\n",
    "        (r\".*\\b(hurt|hurting|ache|pain)\\b.*\", \"What do you think is causing this pain {name}?\"),\n",
    "        (r\".*\\b(job|work|career|business)\\b.*\", \"{name}, tell me more about your career?\"),\n",
    "        (r\".*\\b(parents?|mom|dad|mother|father|grandparents?|grandmother|grandfather)\\b.*\", \"Tell me more about your family {name}.\"),\n",
    "        (r\".*\\b(cancer|disease|tumor|diagnosed|diagnosis)\\b.*\", \"{name}, tell me more about this sickness?\"),\n",
    "        (r\".*\\b(years?|decades?|months?|weeks?)\\b.*\", \"That is quite an amount of time {name}. Can you tell me more?\"),\n",
    "        (r\".*\\b(overwhelmed|overwhelming)\\b.*\", \"What is causing this overwhelming feeling {name}?\"),\n",
    "        (r\".*\\b(brothers?|sisters?|siblings?)\\b.*\", \"Tell me more about your siblings {name}?\"),\n",
    "        (r\".*\\b(nieces?|nephews?|cousins?|uncles?|aunts?)\\b.*\", \"{name}, can you tell me more about your extended family?\"),\n",
    "        (r\".*\\b(addict|addiction|addicted)\\b.*\", \"Tell me more about this addiction {name}.\"),\n",
    "        (r\".*\\b(done with life|suicide|giving up on life|end it all)\\b.*\", \"{name}, this sounds very serious. Please tell me more.\"),\n",
    "        (r\".*\\b(friends?|colleagues?|associates?)\\b.*\", \"Tell me more about your social life {name}.\"),\n",
    "        (r\".*\\b(loser|dork|nerd)\\b.*\", \"{name}, please tell me why you think this?\"),\n",
    "        (r\".*\\b(bully|bullying|bullied)\\b.*\", \"Tell me more about this bullying situation {name}?\"),\n",
    "        (r\".*\\b(sad|sadness|unhappy)\\b.*\", \"Please tell me more about these feelings of sadness {name}?\"),\n",
    "        (r\".*\\b(dogs?|cats?|pets?|hamsters?|animals?)\\b.*\", \"Tell me more about your situation with your pet {name}.\"),\n",
    "        (r\".*\\b(drugs|alcohol|smoking)\\b.*\", \"Tell me more about your relationship with these substances {name}.\"),\n",
    "        (r\".*\\b(wife|husband|spouse|partner)\\b.*\", \"Tell me more about your marriage situation {name}.\"),\n",
    "        (r\".*\\b(boyfriend|girlfriend|crush|fling)\\b.*\", \"{name}, please tell me more about this relationship.\"),\n",
    "        (r\".*\\b(cheating|infidelity|adultery)\\b.*\", \"I'm sorry to hear that {name}, can you tell me more about this cheating situation?\"),\n",
    "        (r\".*\\b(left|gone|took off)\\b.*\", \"How does this abandonment make you feel {name}?\"),\n",
    "        (r\".*\\b(bankrupt|debt|owe)\\b.*\", \"Tell me more about these money problems you are facing {name}.\"),\n",
    "        (r\".*\\b(gambling|carbs|casino|betting|bets?)\\b.*\", \"Tell me more about your relationship with gambling {name}.\"),\n",
    "        (r\".*\\b(foreclosure|seized|foreclosed)\\b.*\", \"{name}, tell me about how you dealt with this loss.\"),\n",
    "        (r\".*\\b(family|families)\\b.*\", \"Tell me more about your relationship with your family {name}.\"),\n",
    "        (r\".*\\b(sons?|daughters?)\\b.*\", \"Tell me more about your children {name}.\"),\n",
    "        (r\".*\\b(embarrassed|embarrassing|humiliated)\\b.*\", \"Tell me what made you embarrassed {name}.\"),\n",
    "        (r\".*\\b(ashamed|guilt|guilty)\\b.*\", \"Tell me about these feelings of guilt {name}.\"),\n",
    "        (r\".*\\b(envy|envious|jealous|jealousy)\\b.*\", \"Tell me about these feelings of jealousy {name}.\"),\n",
    "        (r\".*\\b(hate|hating)\\b.*\", \"Tell me more about these feelings of hate {name}.\"),\n",
    "        (r\".*\\b(somber|pessimistic|sorrowful)\\b.*\", \"What do you think is causing you to think this way {name}?\"),\n",
    "        (r\".*\\b(tragic|tragedy)\\b.*\", \"That is very upsetting to hear {name}, can you please elaborate?\"),\n",
    "        (r\".*\\b(inadequate|inferior|beneath)\\b.*\", \"Tell me more about these feelings of inferiority {name}.\"),\n",
    "        (r\".*\\bmy wife left me and took the dog\\b.*\", \"Maybe you should've been a better husband {name}.\")\n",
    "    ],\n",
    "    \"fear\": [\n",
    "        #first get numeric response, but disregard most text after numeric response\n",
    "        ## used (Anon 2024) and (Gadiraju n.d.) to learn how to take two conditions to get a number then text after\n",
    "        ##Get some basic types of fears\n",
    "        (r\"([0-9]+)\\s+([a-zA-z].+)\",\"So you've had this emotion for about {0} {1}s. What in your life causes you the most fear, {name}?\"),\n",
    "        (r\"\\bschool\\b|\\bcollege\\b|\\beducation\\b|\\btrade school\\b\" ,\"What about your educational experience is stressing you out or causing you fear?\"),\n",
    "        (r\"\\bwork\\b|\\bjob\\b|\\bcareer\\b\" ,\"What about your job or work makes you feel fear?\"),\n",
    "        (r\"\\bfamily\\b|\\bmom\\b|\\bdad\\b|\\bbrother\\b|\\bsister\\b\" ,\"What specifically about you family causes fear, {name}?\"),\n",
    "        (r\"\\bboyfriend\\b|\\bgirlfriend\\b|\\bpartner\\b\" ,\"It can be hard when a partner is a source of stress or fear, what do they do to make you feel this way?\"),\n",
    "        (r\"\\bphobia\\b|\\brevulsion\\b\" ,\"Ah, yes it can be difficult to have such an intense phobia. What is the root of that phobia for you?\"),\n",
    "        (r\"\\billness\\b|\\bsick\\b\" ,\"That can be a stressful feeling for sure, no one likes to be sick- what kind of sickness do you have?\"),\n",
    "        (r\"\\bdeath\\b|\\bdying\\b|\\bdie\\b\" ,\"I am sorry to hear that and it is understandable you are scared. What are you dying from if I may ask?\"),   \n",
    "        ##Try to determine what causes the fear for a given type, but there is overlap between behaviors \n",
    "        ##School\n",
    "        (r\"\\bhomework\\b|\\bassignments\\b\" ,\"Homework can be stressful. A good approach is to plan out your week and tasks. Have you tried that?\"),\n",
    "        (r\"\\bbully\\b|\\bmean\\b\" ,\"That is very scary, what do they do to you?\"),\n",
    "        (r\"\\bteacher\\b|\\bprofessor\\b\" ,\"Remember, most teachers are there to help, but it does not always seem that way. Do they do something specific that is scary to you?\"),\n",
    "        (r\"\\bscholarship\\b|\\bcost\\b|\\bloan\\b\" ,\"Anything financial can be scary for sure. Have you talked to the financial aid office or a financial advisor, {name}?\"),\n",
    "        (r\"\\bphysics\\b|\\bmath\\b|\\bscience\\b|\\bphilosophy\\b|\\bliterature\\b|\\bchemistry\\b\" ,\"These can be tough subjects! But, it is good to confront these fears now. Lets start by making a study plan- can you do that?\"),   \n",
    "        (r\"\\bfriend\\b|\\bpeer\\b\" ,\"Why are you afraid of your friend?\"),\n",
    "        (r\"\\bclass\\b|\\bsubject\\b\" ,\"Certain classes and topics can be tough. Lets start by making a study plan can you try that for me?\"),\n",
    "        ##Work\n",
    "        (r\"\\bboss\\b|\\bmanager\\b|\\bdirector\\b|\\supervisor\\b\" ,\"What does your boss do that causes you fear?\"),\n",
    "        (r\"\\bmoney\\b|\\bwage\\b|\\bpay\\b\" ,\"Financial stress and fear is common, but that does not make it any less real. What monetary fears do you have, {name}?\"),\n",
    "        (r\"\\bcoworkers?\\b|\\bcolleague\\b\" ,\"What does your coworker do that makes you afraid?\"),\n",
    "        (r\"\\bdeadline\\b|\\bdue date\\b|\\bpresentation\\b|\\bproject\\b\" ,\"Upcoming projects can cause a lot of anxiety.{name}, I would start off making a project plan and trying to chart out your time.\"),\n",
    "        ##Family or partner\n",
    "        (r\"\\bhurt\\b\" ,\"How do they hurt you?\"),\n",
    "        (r\"\\bhit\\b|\\bkick\\b|\\babuse\\b|\\bpunch\\b|\\bsmack\\b|\\bslap\\b\" ,\"That must be really hard, {name}, and someone physically hurting you is never okay. I think its time you make a safety plan.\"),\n",
    "        (r\"\\byell\\b|\\bscream\\b\" ,\"Verbal abuse is still abuse, {name}. Do they cause you fear in other ways or hurt you other ways, if so, please tell me how?\"),\n",
    "        ##Phobia\n",
    "        ##used list of phobias from (Cherry 2025)\n",
    "        (r\"\\bspiders?\\b\",\"Spiders can be scary {name}! I'd suggest doing some breathing exercises while you think about or encounter spiders.\"),\n",
    "        (r\"\\bheights?\\b\",\"Heights can be scary {name}! I'd suggest doing some breathing exercises while you think about or encounter heights.\"),\n",
    "        (r\"\\bflying\\b\",\"Flying can be scary {name}! I'd suggest doing some breathing exercises while you think about or have to fly.\"),\n",
    "        (r\"\\bneedles?\\b\",\"Needles are no laughing matter for sure. I'd suggest doing some breathing exercises while you think about or encounter needles.\"),\n",
    "        (r\"\\bclaustrophobia\\b\",\"Fear of small spaces is hard to cope with for sure. I'd suggest doing some breathing exercises while you think about or encounter tight spaces.\"),\n",
    "        (r\"\\bclowns?\\b\",\"Clowns can be scary {name}! I'd suggest doing some breathing exercises while you think about or encounter clowns.\"),\n",
    "        (r\"\\bdentists?\\b\",\"Dentists can be scary {name}! I'd suggest doing some breathing exercises while you think about or encounter dentists.\"),\n",
    "        (r\"\\bcrowds?\\b\",\"Lots of people are afraid of crowds! I'd suggest doing some breathing exercises while you think about or encounter crowds.\"),\n",
    "        (r\"\\bdogs?\\b\",\"Dogs can be scary, made even more so because a lot of people have them. I'd suggest doing some breathing exercises while you think about or encounter dogs.\"),\n",
    "            \n",
    "        ##Death or illness\n",
    "        (r\"\\bflu\\b|\\bcold\\b|\\bcough\\b\" ,\"Ah, being sick can be scary. The good news is that most times you will recover from such an illness. I know it is hard though- do you think you'll recover?\"),\n",
    "        (r\"\\bcancer\\b|\\btumor\\b|\\bdisease\\b\" ,\"That is serious and is certainly scary. Sharing this with supportive friends or family may help.\")        \n",
    "    ],\n",
    "    \"anger\": [\n",
    "        (r\".*\\banger\\b.*\", \"Angry!\")\n",
    "    ]\n",
    "}"
   ]
  },
  {
   "cell_type": "code",
   "execution_count": 3,
   "id": "3",
   "metadata": {},
   "outputs": [],
   "source": [
    "##Get User name and gender\n",
    "##Learned from (Gadiraju n.d.)\n",
    "def user_info():\n",
    "    name = input(\"What's your name? \")\n",
    "    while True:\n",
    "        gender = input(\"What's your gender? (Male/M, Female/F, Others): \").lower()\n",
    "        if gender in ['male', 'm']:\n",
    "            gender = \"Male\"\n",
    "            break\n",
    "        elif gender in ['female', 'f']:\n",
    "            gender = \"Female\"\n",
    "            break\n",
    "        elif gender == 'others':\n",
    "            gender = \"Others\"\n",
    "            break\n",
    "        else:\n",
    "            print(\"Invalid input. Please enter Male, M, Female, F, or Others.\")\n",
    "    return name, gender"
   ]
  },
  {
   "cell_type": "code",
   "execution_count": 4,
   "id": "4",
   "metadata": {},
   "outputs": [],
   "source": [
    "##Ask which emotional state user is feeling\n",
    "\n",
    "def get_emotion():\n",
    "    emote = input(\"Please choose how you are feeling today (happy, sad, fear, anger): \").strip().lower()\n",
    "    if emote in emote_responses:\n",
    "        return emote\n",
    "    else:\n",
    "        print(\"Invalid input. Please enter: happy, sad, fear, or anger.\")\n",
    "        return get_emotion()\n",
    "\n",
    "## Search for patterns in each emotional group and return a response based on user input\n",
    "## Learned try and except function for match handling from (W3Schools, 2024)\n",
    "def emote_response(emotion, user_input, name):\n",
    "    process_user_input = ' '.join(process_words(user_input))\n",
    "    switched_input = switch_pronoun(user_input)\n",
    "    patterns = emote_regex.get(emotion, [])\n",
    "    for pattern, response in patterns:\n",
    "        if re.search(pattern, process_user_input):\n",
    "            match = re.search(pattern, process_user_input)\n",
    "            if match:\n",
    "                try:\n",
    "                    return response.format(*match.groups(), name=name)\n",
    "                except IndexError:\n",
    "                    return response.format(name=name)\n",
    "    return f\"Tell me more about why you said: \\\"{switched_input}\\\"\""
   ]
  },
  {
   "cell_type": "code",
   "execution_count": 5,
   "id": "5",
   "metadata": {},
   "outputs": [],
   "source": [
    "##Pronoun matching and switching function\n",
    "##pronouns, learned from (Gadiraju n.d.) and added in a few more\n",
    "switch_pronouns={\n",
    "    \"am\":\"are\",\n",
    "    \"me\":\"you\",\n",
    "    \"us\":\"we\",\n",
    "    \"you\":\"I\", \n",
    "    \"I\":\"you\",\n",
    "    \"mine\": \"your\",\n",
    "    \"my\":\"your\",\n",
    "    \"your\":\"my\",\n",
    "    \"myself\":\"yourself\",\n",
    "    \"yours\":\"mine\"\n",
    "}\n",
    "\n",
    "def switch_pronoun(inputStatement):\n",
    "    inputTexts = inputStatement.split()\n",
    "    changed_text=[switch_pronouns.get(inputText.lower(),inputText) for inputText in inputTexts]\n",
    "    return ' '.join(changed_text ) "
   ]
  },
  {
   "cell_type": "code",
   "execution_count": 6,
   "id": "8",
   "metadata": {},
   "outputs": [],
   "source": [
    "##Function to enter chatbot along with a gibberish detector and quit function\n",
    "##Learned from (Gadiraju n.d.)\n",
    "def eliza():\n",
    "    print(\"[Eliza] Hi, I'm Eliza, a Rogerian Psychotherapist.\")\n",
    "    name, gender = user_info()\n",
    "    emotion = get_emotion()\n",
    "    print(emote_responses[emotion])\n",
    "    gibberish = 0\n",
    "    max_gibberish = 3\n",
    "    while True:\n",
    "        user_input = input(\"> \")\n",
    "        if user_input.lower() in [\"quit\", \"exit\", \"bye\", \"stop\", \"off\", \"signing off\", \"that's it bye\", \"i don't want to talk anymore\"]:\n",
    "            print(\"Take care!\")\n",
    "            break\n",
    "        response = emote_response(emotion, user_input, name)\n",
    "        if \"Tell me more about why you said:\" in response:\n",
    "            gibberish += 1\n",
    "            if gibberish >= max_gibberish:\n",
    "                response = \"I'm not sure I understand. Could you tell me more?\"\n",
    "        else:\n",
    "            gibberish = 0\n",
    "        print(f\"[Eliza] {response}\")"
   ]
  },
  {
   "cell_type": "code",
   "execution_count": 7,
   "id": "9",
   "metadata": {},
   "outputs": [
    {
     "name": "stdout",
     "output_type": "stream",
     "text": [
      "[Eliza] Hi, I'm Eliza, a Rogerian Psychotherapist.\n"
     ]
    },
    {
     "name": "stdin",
     "output_type": "stream",
     "text": [
      "What's your name?  Joe\n",
      "What's your gender? (Male/M, Female/F, Others):  M\n",
      "Please choose how you are feeling today (happy, sad, fear, anger):  Fear\n"
     ]
    },
    {
     "name": "stdout",
     "output_type": "stream",
     "text": [
      "I'm sorry to hear that. What’s making you feel so anxious?\n"
     ]
    },
    {
     "name": "stdin",
     "output_type": "stream",
     "text": [
      ">  My boss at work.\n"
     ]
    },
    {
     "name": "stdout",
     "output_type": "stream",
     "text": [
      "[Eliza] What about your job or work makes you feel fear?\n"
     ]
    },
    {
     "name": "stdin",
     "output_type": "stream",
     "text": [
      ">  They are really mean\n"
     ]
    },
    {
     "name": "stdout",
     "output_type": "stream",
     "text": [
      "[Eliza] That is very scary, what do they do to you?\n"
     ]
    },
    {
     "name": "stdin",
     "output_type": "stream",
     "text": [
      ">  They yell at me\n"
     ]
    },
    {
     "name": "stdout",
     "output_type": "stream",
     "text": [
      "[Eliza] Verbal abuse is still abuse, Joe. Do they cause you fear in other ways or hurt you other ways, if so, please tell me how?\n"
     ]
    },
    {
     "name": "stdin",
     "output_type": "stream",
     "text": [
      ">  No they don't.\n"
     ]
    },
    {
     "name": "stdout",
     "output_type": "stream",
     "text": [
      "[Eliza] Tell me more about why you said: \"No they don't.\"\n"
     ]
    },
    {
     "name": "stdin",
     "output_type": "stream",
     "text": [
      ">  Well because they don't\n"
     ]
    },
    {
     "name": "stdout",
     "output_type": "stream",
     "text": [
      "[Eliza] Tell me more about why you said: \"Well because they don't\"\n"
     ]
    },
    {
     "name": "stdin",
     "output_type": "stream",
     "text": [
      ">  You make me happy\n"
     ]
    },
    {
     "name": "stdout",
     "output_type": "stream",
     "text": [
      "[Eliza] I'm not sure I understand. Could you tell me more?\n"
     ]
    },
    {
     "name": "stdin",
     "output_type": "stream",
     "text": [
      ">  I am happy\n"
     ]
    },
    {
     "name": "stdout",
     "output_type": "stream",
     "text": [
      "[Eliza] I'm not sure I understand. Could you tell me more?\n"
     ]
    },
    {
     "name": "stderr",
     "output_type": "stream",
     "text": [
      "Exception ignored in: <bound method IPythonKernel._clean_thread_parent_frames of <ipykernel.ipkernel.IPythonKernel object at 0x0000017620FA8EC0>>\n",
      "Traceback (most recent call last):\n",
      "  File \"C:\\Users\\marth\\anaconda3\\envs\\school\\Lib\\site-packages\\ipykernel\\ipkernel.py\", line 790, in _clean_thread_parent_frames\n",
      "    active_threads = {thread.ident for thread in threading.enumerate()}\n",
      "  File \"C:\\Users\\marth\\anaconda3\\envs\\school\\Lib\\threading.py\", line 1477, in enumerate\n",
      "    def enumerate():\n",
      "KeyboardInterrupt: \n"
     ]
    },
    {
     "ename": "KeyboardInterrupt",
     "evalue": "Interrupted by user",
     "output_type": "error",
     "traceback": [
      "\u001b[31m---------------------------------------------------------------------------\u001b[39m",
      "\u001b[31mKeyboardInterrupt\u001b[39m                         Traceback (most recent call last)",
      "\u001b[36mCell\u001b[39m\u001b[36m \u001b[39m\u001b[32mIn[7]\u001b[39m\u001b[32m, line 2\u001b[39m\n\u001b[32m      1\u001b[39m \u001b[38;5;66;03m##Call chatbot function to start chat as a user\u001b[39;00m\n\u001b[32m----> \u001b[39m\u001b[32m2\u001b[39m eliza()\n",
      "\u001b[36mCell\u001b[39m\u001b[36m \u001b[39m\u001b[32mIn[6]\u001b[39m\u001b[32m, line 11\u001b[39m, in \u001b[36meliza\u001b[39m\u001b[34m()\u001b[39m\n\u001b[32m      9\u001b[39m max_gibberish = \u001b[32m3\u001b[39m\n\u001b[32m     10\u001b[39m \u001b[38;5;28;01mwhile\u001b[39;00m \u001b[38;5;28;01mTrue\u001b[39;00m:\n\u001b[32m---> \u001b[39m\u001b[32m11\u001b[39m     user_input = \u001b[38;5;28minput\u001b[39m(\u001b[33m\"\u001b[39m\u001b[33m> \u001b[39m\u001b[33m\"\u001b[39m)\n\u001b[32m     12\u001b[39m     \u001b[38;5;28;01mif\u001b[39;00m user_input.lower() \u001b[38;5;129;01min\u001b[39;00m [\u001b[33m\"\u001b[39m\u001b[33mquit\u001b[39m\u001b[33m\"\u001b[39m, \u001b[33m\"\u001b[39m\u001b[33mexit\u001b[39m\u001b[33m\"\u001b[39m, \u001b[33m\"\u001b[39m\u001b[33mbye\u001b[39m\u001b[33m\"\u001b[39m, \u001b[33m\"\u001b[39m\u001b[33mstop\u001b[39m\u001b[33m\"\u001b[39m, \u001b[33m\"\u001b[39m\u001b[33moff\u001b[39m\u001b[33m\"\u001b[39m, \u001b[33m\"\u001b[39m\u001b[33msigning off\u001b[39m\u001b[33m\"\u001b[39m, \u001b[33m\"\u001b[39m\u001b[33mthat\u001b[39m\u001b[33m'\u001b[39m\u001b[33ms it bye\u001b[39m\u001b[33m\"\u001b[39m, \u001b[33m\"\u001b[39m\u001b[33mi don\u001b[39m\u001b[33m'\u001b[39m\u001b[33mt want to talk anymore\u001b[39m\u001b[33m\"\u001b[39m]:\n\u001b[32m     13\u001b[39m         \u001b[38;5;28mprint\u001b[39m(\u001b[33m\"\u001b[39m\u001b[33mTake care!\u001b[39m\u001b[33m\"\u001b[39m)\n",
      "\u001b[36mFile \u001b[39m\u001b[32m~\\anaconda3\\envs\\school\\Lib\\site-packages\\ipykernel\\kernelbase.py:1282\u001b[39m, in \u001b[36mKernel.raw_input\u001b[39m\u001b[34m(self, prompt)\u001b[39m\n\u001b[32m   1280\u001b[39m     msg = \u001b[33m\"\u001b[39m\u001b[33mraw_input was called, but this frontend does not support input requests.\u001b[39m\u001b[33m\"\u001b[39m\n\u001b[32m   1281\u001b[39m     \u001b[38;5;28;01mraise\u001b[39;00m StdinNotImplementedError(msg)\n\u001b[32m-> \u001b[39m\u001b[32m1282\u001b[39m \u001b[38;5;28;01mreturn\u001b[39;00m \u001b[38;5;28mself\u001b[39m._input_request(\n\u001b[32m   1283\u001b[39m     \u001b[38;5;28mstr\u001b[39m(prompt),\n\u001b[32m   1284\u001b[39m     \u001b[38;5;28mself\u001b[39m._parent_ident[\u001b[33m\"\u001b[39m\u001b[33mshell\u001b[39m\u001b[33m\"\u001b[39m],\n\u001b[32m   1285\u001b[39m     \u001b[38;5;28mself\u001b[39m.get_parent(\u001b[33m\"\u001b[39m\u001b[33mshell\u001b[39m\u001b[33m\"\u001b[39m),\n\u001b[32m   1286\u001b[39m     password=\u001b[38;5;28;01mFalse\u001b[39;00m,\n\u001b[32m   1287\u001b[39m )\n",
      "\u001b[36mFile \u001b[39m\u001b[32m~\\anaconda3\\envs\\school\\Lib\\site-packages\\ipykernel\\kernelbase.py:1325\u001b[39m, in \u001b[36mKernel._input_request\u001b[39m\u001b[34m(self, prompt, ident, parent, password)\u001b[39m\n\u001b[32m   1322\u001b[39m \u001b[38;5;28;01mexcept\u001b[39;00m \u001b[38;5;167;01mKeyboardInterrupt\u001b[39;00m:\n\u001b[32m   1323\u001b[39m     \u001b[38;5;66;03m# re-raise KeyboardInterrupt, to truncate traceback\u001b[39;00m\n\u001b[32m   1324\u001b[39m     msg = \u001b[33m\"\u001b[39m\u001b[33mInterrupted by user\u001b[39m\u001b[33m\"\u001b[39m\n\u001b[32m-> \u001b[39m\u001b[32m1325\u001b[39m     \u001b[38;5;28;01mraise\u001b[39;00m \u001b[38;5;167;01mKeyboardInterrupt\u001b[39;00m(msg) \u001b[38;5;28;01mfrom\u001b[39;00m\u001b[38;5;250m \u001b[39m\u001b[38;5;28;01mNone\u001b[39;00m\n\u001b[32m   1326\u001b[39m \u001b[38;5;28;01mexcept\u001b[39;00m \u001b[38;5;167;01mException\u001b[39;00m:\n\u001b[32m   1327\u001b[39m     \u001b[38;5;28mself\u001b[39m.log.warning(\u001b[33m\"\u001b[39m\u001b[33mInvalid Message:\u001b[39m\u001b[33m\"\u001b[39m, exc_info=\u001b[38;5;28;01mTrue\u001b[39;00m)\n",
      "\u001b[31mKeyboardInterrupt\u001b[39m: Interrupted by user"
     ]
    }
   ],
   "source": [
    "##Call chatbot function to start chat as a user\n",
    "eliza()"
   ]
  },
  {
   "cell_type": "code",
   "execution_count": null,
   "id": "4d2ab508-4e64-4e39-858f-c604141504d1",
   "metadata": {},
   "outputs": [],
   "source": []
  }
 ],
 "metadata": {
  "kernelspec": {
   "display_name": "Python 3 (ipykernel)",
   "language": "python",
   "name": "python3"
  },
  "language_info": {
   "codemirror_mode": {
    "name": "ipython",
    "version": 3
   },
   "file_extension": ".py",
   "mimetype": "text/x-python",
   "name": "python",
   "nbconvert_exporter": "python",
   "pygments_lexer": "ipython3",
   "version": "3.13.2"
  }
 },
 "nbformat": 4,
 "nbformat_minor": 5
}

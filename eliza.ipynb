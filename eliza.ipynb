{
 "cells": [
  {
   "cell_type": "markdown",
   "id": "0b6bd6c7-209e-4572-93ae-61794f9cb8f1",
   "metadata": {},
   "source": [
    "Group Programming Assignment One-Chatbot Eliza <br>\n",
    "Kori Fogle, Michaela Herrick, Jackson Holland, Ishaan Indoori <br>\n",
    "AIT 526 <br>\n",
    "6/1/2025 <br>\n",
    "\n",
    "<b> Problem to be Solved </b> <br>\n",
    "The goal of this project is to create a chatbot that convincingly interacts with a user such that it could conceivably make the user think the chatbot is an actual therapist. Python is used to create the chatbot, with a heavy emphasis on regular expressions, tokenization and lemmatization to help take user input in, and return output from the program and return responses in natural language that are more convincing to the user. <br>\n",
    "<b> Algorithm and Flow</b><br>\n",
    "Our team’s approach is to first ask the user their name, age, and gender. Then we ask the user about their current emotional state to help funnel them into more specific sets of regular expressions. Four of the six basic emotions- happiness, sadness, fear, and anger, are used to funnel users into more tailored responses. We learned about these basic emotions and decided not to utilize disgust or surprise, since those seem more temporal than the other four (UWA 2019). Our team referenced a list of emotive words (Davis 2025) to help write expressions and try to address common emotional words. The code also addresses how to deal with the assignment requirements of “gibberish” or non-sensical input. Further, we give the user ways to exit the program with common closing statements such as “goodbye” or “I don’t want to talk anymore.”<br>\n",
    "<b> Example of Input and Output</b><br>\n",
    "[example]<br>\n",
    "<b> Usage Instructions</b><br>\n",
    "[step by step]<br>\n",
    "<b> References</b><br>\n",
    "Anon. 2024. “Python Regex Cheat Sheet.” GeeksforGeeks. Retrieved May 31, 2025 (https://www.geeksforgeeks.org/python-regex-cheat-sheet/).<br>\n",
    "Davis, Tchiki. 2025. “List of Emotions: 271 Emotion Words (+ PDF).” The Berkeley Well-Being Institute. Retrieved (https://www.berkeleywellbeing.com/list-of-emotions.html). <br>\n",
    "Dib, Firas. n.d. “Regex101 - Online Regex Editor and Debugger.” @Regex101. Retrieved (https://regex101.com/).<br>\n",
    "Gadiraju, Sai Surya. n.d. “M1.2 Introduction to Python and Regular Expressions Demo Video 2.”<br>\n",
    "Jurafsky, Daniel, and James H. Martin. 2025. Speech and Language Processing (3rd Ed. Draft).<br>\n",
    "Liao, Duoduo. n.d.-a.“M1.4 Lecture Video and Code Walkthrough.”<br>\n",
    "UWA. 2019. “Our Basic Emotions Infographic | List of Human Emotions.” UWA Online. Retrieved (https://online.uwa.edu/infographics/basic-emotions/).<br>\n"
   ]
  },
  {
   "cell_type": "code",
   "execution_count": null,
   "id": "f08fe598-bd27-4ec8-ab20-1bbb11733156",
   "metadata": {},
   "outputs": [],
   "source": [
    "##import packages\n",
    "import nltk\n",
    "from nltk.stem import WordNetLemmatizer\n",
    "from nltk.corpus import stopwords\n",
    "from nltk.tokenize import word_tokenize\n",
    "from nltk import pos_tag #tag parts of speech\n",
    "import random\n",
    "import re"
   ]
  },
  {
   "cell_type": "code",
   "execution_count": null,
   "id": "ddc57cb9-19bf-49c9-9663-ac5045fb9126",
   "metadata": {},
   "outputs": [],
   "source": [
    "##Regular expression sets that correspond to one of four emotional states\n"
  "# Store a greeting to be used for each user based on the emotion selected
emote_responses = {
    "happy": "Glad to hear! Tell me more about what’s making you feel this way.",
    "sad": "I'm sorry to hear that. What's been bothering you?",
    "fear": "I'm sorry to hear that. What’s making you feel so anxious?",
    "anger": "Let’s try to work through that anger. What happened?"
}"

"# Store regex phrases divided based on user emotion
emote_regex = {
    "happy": [
        (r".*\bhappy\b.*", "Yay")
    ],
    "sad": [
        (r".*\b(hello|hi|greetings)\b.*", "Hello, can you tell me more about what is making you sad {name}?"),
        (r".*\bI need help\b.*", "How can I help you today {name}?"),
        (r".*\b(lonely|depressed|lost)\b.*", "That sounds really tough. Want to talk about it {name}?"),
        (r".*\bdown in the dumps\b.*", "What is causing this feeling?"),
        (r".*\b(cry|tears|bawling|crying|weeping)\b.*", "That sounds like a lot {name}, can you tell me more?"),
        (r".*\blump in my throat\b.*", "What do you think is causing this feeling?"),
        (r".*\b(blue|blues)\b.*", "Why do you think you are feeling this way {name}?"),
        (r".*\bheavy heart\b.*", "That sounds rough, can you tell me more?"),
        (r".*\b(down|low|under)\b.*", "What is causing this low feeling {name}?"),
        (r".*\b(broken|broke|destroyed)\b.*", "Why do you think this happened {name}?"),
        (r".*\b(sick|sickly|ill)\b.*", "Tell me more about this sickness."),
        (r".*\b(sink|sinking|sunk)\b.*", "Tell me more about this sinking feeling you have {name}?"),
        (r".*\b(alone|isolated)\b.*", "Tell me more about this alone feeling {name}?"),
        (r".*\b(hopeless|worthless|useless)\b.*", "What do you think is causing these feelings {name}?"),
        (r".*\b(died|death|loss)\b.*", "I'm sorry about this loss. Can you tell me more about that {name}?"),
        (r".*\b(miss|missing|wish they were here)\b.*", "I'm sorry to hear that {name}. Can you tell me more about these longings?"),
        (r".*\b(drained|tired|exhausted)\b.*", "What do you think is causing this exhaustion {name}?"),
        (r".*\b(failure|fail|failed)\b.*", "I'm sorry to hear that {name}. Can you tell me more about this failure?"),
        (r".*\b(abandoned|abandonment|given up)\b.*", "Tell me more about these abandonment feelings {name}."),
        (r".*\b(misery|miserable)\b.*", "That sounds really tough. Can you tell me more about these feelings of misery {name}?"),
        (r".*\b(pointless)\b.*", "What about this is causing these pointless feelings {name}?"),
        (r".*\b(grief|grieving)\b.*", "I'm sorry about this loss {name}. Can you tell me more about this?"),
        (r".*\b(not okay|not fine|not good)\b.*", "I'm sorry to hear that {name}. Can you tell me more about this?"),
        (r".*\b(hurt|hurting|ache|pain)\b.*", "What do you think is causing this pain {name}?"),
        (r".*\b(job|work|career|business)\b.*", "{name}, tell me more about your career?"),
        (r".*\b(parents?|mom|dad|mother|father|grandparents?|grandmother|grandfather)\b.*", "Tell me more about your family {name}."),
        (r".*\b(cancer|disease|tumor|diagnosed|diagnosis)\b.*", "{name}, tell me more about this sickness?"),
        (r".*\b(years?|decades?|months?|weeks?)\b.*", "That is quite an amount of time {name}. Can you tell me more?"),
        (r".*\b(overwhelmed|overwhelming)\b.*", "What is causing this overwhelming feeling {name}?"),
        (r".*\b(brothers?|sisters?|siblings?)\b.*", "Tell me more about your siblings {name}?"),
        (r".*\b(nieces?|nephews?|cousins?|uncles?|aunts?)\b.*", "{name}, can you tell me more about your extended family?"),
        (r".*\b(addict|addiction|addicted)\b.*", "Tell me more about this addiction {name}."),
        (r".*\b(done with life|suicide|giving up on life|end it all)\b.*", "{name}, this sounds very serious. Please tell me more."),
        (r".*\b(friends?|colleagues?|associates?)\b.*", "Tell me more about your social life {name}."),
        (r".*\b(loser|dork|nerd)\b.*", "{name}, please tell me why you think this?"),
        (r".*\b(bully|bullying|bullied)\b.*", "Tell me more about this bullying situation {name}?"),
        (r".*\b(sad|sadness|unhappy)\b.*", "Please tell me more about these feelings of sadness {name}?"),
        (r".*\b(dogs?|cats?|pets?|hamsters?|animals?)\b.*", "Tell me more about your situation with your pet {name}."),
        (r".*\b(drugs|alcohol|smoking)\b.*", "Tell me more about your relationship with these substances {name}."),
        (r".*\b(wife|husband|spouse|partner)\b.*", "Tell me more about your marriage situation {name}."),
        (r".*\b(boyfriend|girlfriend|crush|fling)\b.*", "{name}, please tell me more about this relationship."),
        (r".*\b(cheating|infidelity|adultery)\b.*", "I'm sorry to hear that {name}, can you tell me more about this cheating situation?"),
        (r".*\b(left|gone|took off)\b.*", "How does this abandonment make you feel {name}?"),
        (r".*\b(bankrupt|debt|owe)\b.*", "Tell me more about these money problems you are facing {name}."),
        (r".*\b(gambling|carbs|casino|betting|bets?)\b.*", "Tell me more about your relationship with gambling {name}."),
        (r".*\b(foreclosure|seized|foreclosed)\b.*", "{name}, tell me about how you dealt with this loss."),
        (r".*\b(family|families)\b.*", "Tell me more about your relationship with your family {name}."),
        (r".*\b(sons?|daughters?)\b.*", "Tell me more about your children {name}."),
        (r".*\b(embarrassed|embarrassing|humiliated)\b.*", "Tell me what made you embarrassed {name}."),
        (r".*\b(ashamed|guilt|guilty)\b.*", "Tell me about these feelings of guilt {name}."),
        (r".*\b(envy|envious|jealous|jealousy)\b.*", "Tell me about these feelings of jealousy {name}."),
        (r".*\b(hate|hating)\b.*", "Tell me more about these feelings of hate {name}."),
        (r".*\b(somber|pessimistic|sorrowful)\b.*", "What do you think is causing you to think this way {name}?"),
        (r".*\b(tragic|tragedy)\b.*", "That is very upsetting to hear {name}, can you please elaborate?"),
        (r".*\b(inadequate|inferior|beneath)\b.*", "Tell me more about these feelings of inferiority {name}."),
        (r".*\bmy wife left me and took the dog\b.*", "Maybe you should've been a better husband {name}.")
    ],
    "fear": [
        (r".*\bfear\b.*", "Scary!")
    ],
    "anger": [
        (r".*\banger\b.*", "Angry!")
    ]
}"

   ]
  },
  {
   "cell_type": "code",
   "execution_count": null,
   "id": "2e4082c0-26f3-4f56-9dcd-f6bae84bf368",
   "metadata": {},
   "outputs": [],
   "source": [
    "##Greeting to get name and gender"
"def user_info():
    name = input("What's your name? ")
    while True:
        gender = input("What's your gender? (Male/M, Female/F, Others): ").lower()
        if gender in ['male', 'm']:
            gender = "Male"
            break
        elif gender in ['female', 'f']:
            gender = "Female"
            break
        elif gender == 'others':
            gender = "Others"
            break
        else:
            print("Invalid input. Please enter Male, M, Female, F, or Others.")
    return name, gender"
   ]
  },
  {
   "cell_type": "code",
   "execution_count": null,
   "id": "3036252c-d994-44bc-bbab-04986577de33",
   "metadata": {},
   "outputs": [],
   "source": [
    "##Ask which emotional state user is feeling"
"# Determine which emotional category the user falls into
def get_emotion():
    emote = input("Please choose how you are feeling today (happy, sad, fear, anger): ").strip().lower()
    if emote in emote_responses:
        return emote
    else:
        print("Invalid input. Please enter: happy, sad, fear, or anger.")
        return get_emotion()"
   ]
  },
  {
   "cell_type": "code",
   "execution_count": null,
   "id": "5b22aa4d-cc90-4ed1-b381-1989f6ed888f",
   "metadata": {},
   "outputs": [],
   "source": [
    "##Pronoun matching and switching function"
   ]
  },
  {
   "cell_type": "code",
   "execution_count": null,
   "id": "b3021ea0-caaf-4c36-95c5-d19c860d1a56",
   "metadata": {},
   "outputs": [],
   "source": [
    "##Addressing gibberish/ nonsensical input"
   ]
  },
  {
   "cell_type": "code",
   "execution_count": null,
   "id": "6205fa4e-4e2c-44b8-8b4a-82ef7ca2c9b2",
   "metadata": {},
   "outputs": [],
   "source": [
    "##Quitting the chatbot"
   ]
  },
  {
   "cell_type": "code",
   "execution_count": null,
   "id": "7b43daef-d3d8-4fd4-a304-8238fd3d06cb",
   "metadata": {},
   "outputs": [],
   "source": [
    "##Function to enter chatbot"
   ]
  },
  {
   "cell_type": "code",
   "execution_count": null,
   "id": "4dc18d2c-1803-4bdc-82c7-d03f8c3c3f9e",
   "metadata": {},
   "outputs": [],
   "source": [
    "##Call chatbot function to start chat as a user"
   ]
  }
 ],
 "metadata": {
  "kernelspec": {
   "display_name": "Python 3 (ipykernel)",
   "language": "python",
   "name": "python3"
  },
  "language_info": {
   "codemirror_mode": {
    "name": "ipython",
    "version": 3
   },
   "file_extension": ".py",
   "mimetype": "text/x-python",
   "name": "python",
   "nbconvert_exporter": "python",
   "pygments_lexer": "ipython3",
   "version": "3.13.2"
  }
 },
 "nbformat": 4,
 "nbformat_minor": 5
}

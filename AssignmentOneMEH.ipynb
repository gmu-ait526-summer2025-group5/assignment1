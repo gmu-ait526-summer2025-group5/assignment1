{
 "cells": [
  {
   "cell_type": "code",
   "execution_count": null,
   "id": "804ea897-cf66-4e02-b8ea-f63fa0491632",
   "metadata": {},
   "outputs": [],
   "source": [
    "##Michaela Herrick"
   ]
  },
  {
   "cell_type": "code",
   "execution_count": 25,
   "id": "de67e147-1e21-45a0-88c6-bfbfa0e66b16",
   "metadata": {},
   "outputs": [],
   "source": [
    "##import relevant packages\n",
    "import nltk\n",
    "from nltk.stem import WordNetLemmatizer\n",
    "from nltk.corpus import stopwords\n",
    "from nltk.tokenize import word_tokenize\n",
    "from nltk import pos_tag #tag parts of speech\n",
    "import random\n",
    "import re\n",
    "##nltk.download('punkt')\n",
    "##nltk.download('wordnet')\n",
    "##nltk.download('averaged_perceptron_tagger')"
   ]
  },
  {
   "cell_type": "code",
   "execution_count": null,
   "id": "91a737ae-42b4-4336-ba66-9965a17cb16a",
   "metadata": {},
   "outputs": [],
   "source": [
    "## put your criteria here- whatever you want to have be main eval critera and\n",
    "##all relevant regexs"
   ]
  },
  {
   "cell_type": "code",
   "execution_count": 3,
   "id": "73d24acc-f28d-4715-9710-86c1312a1e50",
   "metadata": {},
   "outputs": [],
   "source": [
    "lemmatizer = WordNetLemmatizer()\n",
    "stop_words=set(stopwords.words('english'))\n",
    "\n",
    "def find_root_words(statement):\n",
    "    tokens = nltk.word_tokenize(statement.lower())\n",
    "    filtered_tokens=[lemmatizer.lemmatize(word) for word in tokens if word not in stop_words]\n",
    "    return filtered_tokens"
   ]
  },
  {
   "cell_type": "code",
   "execution_count": 7,
   "id": "7f91fc43-e091-4d6d-9b0c-ede921d5783e",
   "metadata": {},
   "outputs": [],
   "source": [
    "##framing questions based on root words found lemmatization\n",
    "##must have a back up default if no root matches found\n",
    "# A function to frame a question based on root words\n",
    "#If no specific pattern matches, it defaults to a general prompt asking for more details.\n",
    "def frame_question(root_words, first_name): # list of root words which extracted from the user's statement and their f\n",
    "    if len(root_words) >= 2 and root_words[0] in (\"want\", \"need\"): #Handles specific cases for words\n",
    "        return f\"{first_name}, why do you want {' '.join(root_words[1:])}?\"\n",
    "    elif len(root_words) >= 2 and root_words[0] == \"feel\":\n",
    "        return f\"Why do you feel {' '.join(root_words[1:]) }?\"\n",
    "    elif len(root_words) >= 2 and root_words[0] == \"think\":\n",
    "        return f\"What makes you think {' '.join(root_words[1:])}?\"\n",
    "    elif len(root_words) >= 2 and root_words[0] == \"believe\":\n",
    "        return f\"Why do you believe {' '.join(root_words[1: ]) }?\"\n",
    "    elif len(root_words) >= 2 and root_words[0] == \"hope\":\n",
    "        return f\"What are you hoping to achieve by, {' '.join(root_words[1:]) }?\"\n",
    "    elif len(root_words) >= 2 and root_words[0] == \"fear\":\n",
    "        return f\"What makes you fear {' '.join(root_words[1:])}?\"\n",
    "    elif len(root_words) >= 2 and root_words[0] == \"expect\":\n",
    "        return f\"What do you expect to happen if {' '.join(root_words[1:])}?\"\n",
    "    elif len(root_words) >= 1 and root_words[0] in (\"happy\", \"sad\", \"sick\", \"healthy\", \"low\"):\n",
    "        return f\"{first_name}, what makes you feel {root_words[0]}?\" #If the root words indicate a feeling or state.\n",
    "    else:\n",
    "            return \"Can you tell me more about that?\""
   ]
  },
  {
   "cell_type": "code",
   "execution_count": 4,
   "id": "7bef8640-89f5-46c4-925b-2e4ec543dcb1",
   "metadata": {},
   "outputs": [],
   "source": [
    "##pronounes\n",
    "pronoun_transformations={\n",
    "    \"i\":\"you\", \n",
    "    \"me\":\"you\",\n",
    "    \"my\":\"your\",\n",
    "    \"am\":\"are\",\n",
    "    \"you\":\"I\",\n",
    "    \"your\":\"my\",\n",
    "    \"yours\":\"mine\",\n",
    "    \"myself\":\"yourself\"\n",
    "}"
   ]
  },
  {
   "cell_type": "code",
   "execution_count": 10,
   "id": "9bf3e1cc-e790-4401-bedf-2bda21c39c7c",
   "metadata": {},
   "outputs": [],
   "source": [
    "def transform_pronouns(statement):\n",
    "    words = statement.split()#splits into indivdual words\n",
    "    transformed_words=[pronoun_transformations.get(word.lower(),word)for word in words]\n",
    "    return ' '.join(transformed_words)"
   ]
  },
  {
   "cell_type": "code",
   "execution_count": 11,
   "id": "ca5a372c-b55a-4f5e-aa8a-40f89438e25a",
   "metadata": {},
   "outputs": [],
   "source": []
  },
  {
   "cell_type": "code",
   "execution_count": 16,
   "id": "3c662939-0efa-4342-a941-8fd4679d31c5",
   "metadata": {},
   "outputs": [],
   "source": [
    "##transform entire statement with pronouns and other modifications\n",
    "def transform_statement(statement, first_name):\n",
    "    statement=statement.lower()\n",
    "    words1=statement.split()\n",
    "    transformed_statement=trasnform_pronouns(statement)\n",
    "    words2=transformed_statement.split() #saves in 2 words\n",
    "# Check if the input starts with \"I want\" and has more than 2 words\n",
    "# Frame a question asking why the user wants the specified item or action\n",
    "# Uses transformed statement to exclude initial \"I want\" part\n",
    "# like this we are checking for the various root words ..\n",
    "    if len(words1) > 2 and words1[0] == \"i\" and words1[1] == \"want\":\n",
    "        return f\"{first_name}, why do you want {' '.join(words2[2:])}?\"\n",
    "    elif len(words1) > 2 and words1[0] == \"i\" and words1[1] == \"am\":\n",
    "        return f\"Why do you think you're {' '.join(words2[2:])}?\"\n",
    "    elif len(words1) > 2 and words1[0] == \"i\" and words1[1] == \"feel\":\n",
    "        return f\"Why do you feel {' '.join(words2[2:])}?\"\n",
    "    elif len(words1) > 2 and words1[0] == \"i\" and words1[1] == \"need\":\n",
    "        return f\"Why do you feel you need {' '.join(words2[2:])}?\"\n",
    "    elif len(words1) > 2 and words1[0] == \"i\" and words1[1] == \"can't\":\n",
    "        return f\"What do you think is stopping you from {' '.join(words2[2:])}?\"\n",
    "    elif len(words1) > 3 and words1[0] == \"i\" and words1[1] == \"don't\" and words1[2] == \"know\":\n",
    "        return f\"What do you think is causing the uncertainty about {' '.join(words2[3:])}?\"\n",
    "    elif len(words1) > 2 and words1[0] == \"i\" and words1[1] == \"think\":\n",
    "        return f\"What makes you think {' '.join(words2[2:])}?\"\n",
    "    elif len(words1) > 2 and words1[0] == \"i\" and words1[1] == \"believe\":\n",
    "        return f\"Why do you believe {' '.join(words2[2:])}?\"\n",
    "    elif len(words1) > 2 and words1[0] == \"i\" and words1[1] == \"hope\":\n",
    "        return f\"What are your hopes regarding {' '.join(words2[2:])}?\"\n",
    "    elif len(words1) > 3 and words1[0] == \"i\" and words1[1] == \"am\" and words1[2] == \"afraid\":\n",
    "        return f\"What is making you feel afraid of {' '.join(words2[3:])}?\"\n",
    "    elif len(words1) > 2 and words1[0] == \"i\" and words1[1] == \"worry\":\n",
    "        return f\"What is it about {' '.join(words2[2:])} that worries you?\"\n",
    "    elif len(words1) > 2 and words1[0] == \"i\" and words1[1] == \"regret\":\n",
    "        return f\"What do you think led you to regret {' '.join(words2[2:])}?\"\n",
    "    elif len(words1) > 2 and words1[0] == \"i\" and words1[1] == \"wish\":\n",
    "        return f\"Why do you wish for {' '.join(words2[2:])}? How would things be different if that wish came true?\"\n",
    "    elif len(words1) > 2 and words1[0] == \"i\" and words1[1] == \"hate\":\n",
    "        return f\"What makes you feel so strongly about {' '.join(words2[2:])}?\"\n",
    "    elif len(words1) > 2 and words1[0] == \"i\" and words1[1] == \"love\":\n",
    "        return f\"Can you tell me more about why you love {' '.join(words2[2:])}?\"\n",
    "    elif len(words1) > 3 and words1[0] == \"i\" and words1[1] == \"can't\" and words1[2] == \"stand\":\n",
    "        return f\"Why do you think you can't stand {' '.join(words2[3:])}?\"\n",
    "    elif len(words1) > 3 and words1[0] == \"i\" and words1[1] == \"am\" and words1[2] == \"struggling\":\n",
    "        return f\"What do you think is contributing to your struggle with {' '.join(words2[3:])}?\"\n",
    "    elif len(words1) > 3 and words1[0] == \"i\" and words1[1] == \"feel\" and words1[2] == \"lost\":\n",
    "        return f\"What do you think makes you feel lost about {' '.join(words2[3:])}?\"\n",
    "    elif len(words1) > 1 and words1[0] == \"my\":\n",
    "        return f\"Why is your {' '. join(words2[1:])}?\"\n",
    "    else:\n",
    "        #use root word to frame question if no match found\n",
    "        root_words=find_root_words(statement)\n",
    "        response = frame_question(root_words, first_name)\n",
    "        return response\n",
    "    return \"Can you tell me more about that?\""
   ]
  },
  {
   "cell_type": "code",
   "execution_count": 18,
   "id": "f7fa99b9-0429-47e6-ab5b-50825c9db969",
   "metadata": {},
   "outputs": [],
   "source": [
    "##age logic\n",
    "def get_response_dict(age):\n",
    "    if age <= 15:\n",
    "        return responses_under_15\n",
    "    elif 16 <= age <= 25:\n",
    "        return responses_16_25\n",
    "    elif 26 <= age <= 40:\n",
    "        return responses_26_40   \n",
    "    elif 41 <= age <=100:\n",
    "        return responses_40_plus\n",
    "    else:\n",
    "        print(\"please enter valid age\")\n",
    "        age = int(input(\"Enter valid age: \"))\n",
    "        return get_response_dict(age)"
   ]
  },
  {
   "cell_type": "code",
   "execution_count": 29,
   "id": "5dfb3bc2-918d-47a6-8f15-86f0f4dbf868",
   "metadata": {},
   "outputs": [],
   "source": [
    "##lemmatizer\n",
    "lemma=WordNetLemmatizer()\n",
    "def preprocess_input(user_input):\n",
    "    tokens=word_tokenize(user_input)\n",
    "    lemmatized_tokens = [lemma.lemmatize(token) for token in tokens]\n",
    "    tagged_tokens = pos_tag(lemmatized_tokens)\n",
    "    return ' '.join(lemmatized_tokens), tagged_tokens"
   ]
  },
  {
   "cell_type": "code",
   "execution_count": 30,
   "id": "feed329f-0299-4650-ab5b-dac7c50d9528",
   "metadata": {},
   "outputs": [],
   "source": [
    "#remove special charcters\n",
    "def spl_remover(user_input):\n",
    "    cleaner= re.sub(r\"[^\\w\\s]\", \"\",user_input)\n",
    "    return cleaner.strip()"
   ]
  },
  {
   "cell_type": "code",
   "execution_count": 32,
   "id": "514f4894-1fe3-4181-9d4d-fc38886e4e4f",
   "metadata": {},
   "outputs": [],
   "source": [
    "#match patterns and provide responses\n",
    "def match(user_input, response_dict, first_name):\n",
    "    cleaner=spl_remover(user_input) #remove punctuation\n",
    "    preprocessed_input, _ =preprocess_input(cleaner) #lemmatize\n",
    "    for pattern, response_list in response_dict.items():\n",
    "        match = re.search(pattern, preprocessed_input, re.IGNORECASE) #search for patterns\n",
    "        if match: #if capturing groups in pattern format response using captured groups\n",
    "            response = random.choice(response_list)#pattern match found, select random response\n",
    "            if match.groups():\n",
    "                insensitive = [group.lower() if group else '' for group in match.group()]\n",
    "                try:\n",
    "                    return response.format(*insensitive)\n",
    "                except IndexError:\n",
    "                    return \"I'm sorry, can you pleaea clarify or ask in a different way?\"\n",
    "            else:\n",
    "                return response #if not capturing groups returns response directly\n",
    "    return transform_statement(user_input, first_name) #if no pattern matches, tranasform statement with fallback statement\n",
    "            "
   ]
  },
  {
   "cell_type": "code",
   "execution_count": 35,
   "id": "663ce62c-7d67-439f-a914-586782e97f1c",
   "metadata": {},
   "outputs": [],
   "source": [
    "##greet user and welcome\n",
    "##verfies details then starts conversation\n",
    "\n",
    "def greet_user():\n",
    "    print(\"Hi, I'm Eliza.... Please provide your details for the conversation.\")\n",
    "    first_name=input(\"What's your first name mandatory\")\n",
    "    last_name = input(\"Whats your last name optional\")\n",
    "    while True:\n",
    "        try:\n",
    "            age = int(input(\"whats age?\"))\n",
    "            if age <=0 or age > 100:\n",
    "                print(\"provide valid age\")\n",
    "            else:\n",
    "                break\n",
    "        except ValueError:\n",
    "            print(\"please put in valid number for age\")\n",
    "    while True:\n",
    "        gender = input(\"What's your gender? (Male/M, Female/F, Others): \").lower()\n",
    "        if gender in ['male', 'm']:\n",
    "            gender = \"Male\"\n",
    "            break\n",
    "        elif gender in ['female','f']:\n",
    "            gender = \"Female\"\n",
    "            break\n",
    "        elif gender == 'others':\n",
    "            gender = \"others\"\n",
    "            break\n",
    "        else:\n",
    "            print(\"invalid input please enter male, m, female, f or others\")\n",
    "    return first_name, last_name, age, gender"
   ]
  },
  {
   "cell_type": "code",
   "execution_count": 36,
   "id": "05dd6c34-993f-4312-9eaa-500a025d4806",
   "metadata": {},
   "outputs": [],
   "source": [
    "#chatbot activation function code\n",
    "def eliza_chat():\n",
    "    first_name, last_name, age, gender = greet_user()\n",
    "    print(f\"Hello {first_name}, how are you doing today? How can I help you?\")\n",
    "    response_dict=get_response_dict(age) #retrieve response dict based on user's age\n",
    "    gibberish = 0 #intialize gibberis counter and set maximum threshold\n",
    "    max_gibberish = 3 #max number fore issuing a final prompt\n",
    "    while True:\n",
    "        user_input = input(f\"{first_name}: \")\n",
    "        if user_input.lower() in ['quit','exit','bye','stop','off','signing off', 'thats it bye']:\n",
    "            print(\"Goodbye take care if you need any help please use the chat again.\")\n",
    "            break\n",
    "        response = match(user_input, response_dict, first_name)\n",
    "        if \"Can you tell me more about that?\" in reaponse or \"can you provide more details?\" in response:\n",
    "            gibberish += 1\n",
    "            if gibberish >= max_gibberish:\n",
    "                response = \"I'm not sure I undertand could you tell me more\"\n",
    "        else:\n",
    "            gibberish = 0 #reset count on valid response\n",
    "        print(f\"Eliza: {response}\")\n",
    "                        "
   ]
  },
  {
   "cell_type": "code",
   "execution_count": 38,
   "id": "4e347675-47ee-493a-ab8a-c9d34344bb18",
   "metadata": {},
   "outputs": [
    {
     "name": "stdout",
     "output_type": "stream",
     "text": [
      "Hi, I'm Eliza.... Please provide your details for the conversation.\n"
     ]
    },
    {
     "name": "stdin",
     "output_type": "stream",
     "text": [
      "What's your first name mandatory quit\n",
      "Whats your last name optional quit\n",
      "whats age? quit\n"
     ]
    },
    {
     "name": "stdout",
     "output_type": "stream",
     "text": [
      "please put in valid number for age\n"
     ]
    },
    {
     "name": "stdin",
     "output_type": "stream",
     "text": [
      "whats age? quit\n"
     ]
    },
    {
     "name": "stdout",
     "output_type": "stream",
     "text": [
      "please put in valid number for age\n"
     ]
    },
    {
     "name": "stdin",
     "output_type": "stream",
     "text": [
      "whats age? 2\n",
      "What's your gender? (Male/M, Female/F, Others):  f\n"
     ]
    },
    {
     "name": "stdout",
     "output_type": "stream",
     "text": [
      "Hello quit, how are you doing today? How can I help you?\n"
     ]
    },
    {
     "ename": "NameError",
     "evalue": "name 'responses_under_15' is not defined",
     "output_type": "error",
     "traceback": [
      "\u001b[31m---------------------------------------------------------------------------\u001b[39m",
      "\u001b[31mNameError\u001b[39m                                 Traceback (most recent call last)",
      "\u001b[36mCell\u001b[39m\u001b[36m \u001b[39m\u001b[32mIn[38]\u001b[39m\u001b[32m, line 1\u001b[39m\n\u001b[32m----> \u001b[39m\u001b[32m1\u001b[39m eliza_chat()\n",
      "\u001b[36mCell\u001b[39m\u001b[36m \u001b[39m\u001b[32mIn[36]\u001b[39m\u001b[32m, line 5\u001b[39m, in \u001b[36meliza_chat\u001b[39m\u001b[34m()\u001b[39m\n\u001b[32m      3\u001b[39m first_name, last_name, age, gender = greet_user()\n\u001b[32m      4\u001b[39m \u001b[38;5;28mprint\u001b[39m(\u001b[33mf\u001b[39m\u001b[33m\"\u001b[39m\u001b[33mHello \u001b[39m\u001b[38;5;132;01m{\u001b[39;00mfirst_name\u001b[38;5;132;01m}\u001b[39;00m\u001b[33m, how are you doing today? How can I help you?\u001b[39m\u001b[33m\"\u001b[39m)\n\u001b[32m----> \u001b[39m\u001b[32m5\u001b[39m response_dict=get_response_dict(age) \u001b[38;5;66;03m#retrieve response dict based on user's age\u001b[39;00m\n\u001b[32m      6\u001b[39m gibberish = \u001b[32m0\u001b[39m \u001b[38;5;66;03m#intialize gibberis counter and set maximum threshold\u001b[39;00m\n\u001b[32m      7\u001b[39m max_gibberish = \u001b[32m3\u001b[39m \u001b[38;5;66;03m#max number fore issuing a final prompt\u001b[39;00m\n",
      "\u001b[36mCell\u001b[39m\u001b[36m \u001b[39m\u001b[32mIn[18]\u001b[39m\u001b[32m, line 4\u001b[39m, in \u001b[36mget_response_dict\u001b[39m\u001b[34m(age)\u001b[39m\n\u001b[32m      2\u001b[39m \u001b[38;5;28;01mdef\u001b[39;00m\u001b[38;5;250m \u001b[39m\u001b[34mget_response_dict\u001b[39m(age):\n\u001b[32m      3\u001b[39m     \u001b[38;5;28;01mif\u001b[39;00m age <= \u001b[32m15\u001b[39m:\n\u001b[32m----> \u001b[39m\u001b[32m4\u001b[39m         \u001b[38;5;28;01mreturn\u001b[39;00m responses_under_15\n\u001b[32m      5\u001b[39m     \u001b[38;5;28;01melif\u001b[39;00m \u001b[32m16\u001b[39m <= age <= \u001b[32m25\u001b[39m:\n\u001b[32m      6\u001b[39m         \u001b[38;5;28;01mreturn\u001b[39;00m responses_16_25\n",
      "\u001b[31mNameError\u001b[39m: name 'responses_under_15' is not defined"
     ]
    }
   ],
   "source": [
    "eliza_chat()"
   ]
  },
  {
   "cell_type": "code",
   "execution_count": null,
   "id": "4fe9f671-94a0-4de9-8fe8-1ac3f22d51c0",
   "metadata": {},
   "outputs": [],
   "source": [
    "##references"
   ]
  }
 ],
 "metadata": {
  "kernelspec": {
   "display_name": "Python 3 (ipykernel)",
   "language": "python",
   "name": "python3"
  },
  "language_info": {
   "codemirror_mode": {
    "name": "ipython",
    "version": 3
   },
   "file_extension": ".py",
   "mimetype": "text/x-python",
   "name": "python",
   "nbconvert_exporter": "python",
   "pygments_lexer": "ipython3",
   "version": "3.13.2"
  }
 },
 "nbformat": 4,
 "nbformat_minor": 5
}
